{
 "cells": [
  {
   "cell_type": "markdown",
   "id": "50aa570d",
   "metadata": {},
   "source": [
    "## spark project.  Read movie_review.csv from Raw Layer."
   ]
  },
  {
   "cell_type": "markdown",
   "id": "1ad3a77c",
   "metadata": {},
   "source": [
    "## look for data that contain the word  “good”, considering the review as positive, and name it as positive_review."
   ]
  },
  {
   "cell_type": "markdown",
   "id": "bfad75f5",
   "metadata": {},
   "source": [
    "### Paul Ricardo Félix Trujillo"
   ]
  },
  {
   "cell_type": "code",
   "execution_count": 1,
   "id": "b9c7c66c",
   "metadata": {},
   "outputs": [],
   "source": [
    "import findspark\n",
    "findspark.init()"
   ]
  },
  {
   "cell_type": "code",
   "execution_count": 2,
   "id": "14e0d5ad",
   "metadata": {},
   "outputs": [],
   "source": [
    "from pyspark.sql import SparkSession\n",
    "from pyspark.ml.feature import Tokenizer\n",
    "from pyspark.ml.feature import StopWordsRemover\n",
    "import pyspark.sql.functions as f"
   ]
  },
  {
   "cell_type": "code",
   "execution_count": 4,
   "id": "b79fd883",
   "metadata": {},
   "outputs": [],
   "source": [
    "spark = SparkSession.builder.getOrCreate()"
   ]
  },
  {
   "cell_type": "code",
   "execution_count": 5,
   "id": "c937e745",
   "metadata": {},
   "outputs": [
    {
     "data": {
      "text/html": [
       "\n",
       "            <div>\n",
       "                <p><b>SparkSession - in-memory</b></p>\n",
       "                \n",
       "        <div>\n",
       "            <p><b>SparkContext</b></p>\n",
       "\n",
       "            <p><a href=\"http://host.docker.internal:4040\">Spark UI</a></p>\n",
       "\n",
       "            <dl>\n",
       "              <dt>Version</dt>\n",
       "                <dd><code>v3.2.0</code></dd>\n",
       "              <dt>Master</dt>\n",
       "                <dd><code>local[*]</code></dd>\n",
       "              <dt>AppName</dt>\n",
       "                <dd><code>pyspark-shell</code></dd>\n",
       "            </dl>\n",
       "        </div>\n",
       "        \n",
       "            </div>\n",
       "        "
      ],
      "text/plain": [
       "<pyspark.sql.session.SparkSession at 0x1f224431e20>"
      ]
     },
     "execution_count": 5,
     "metadata": {},
     "output_type": "execute_result"
    }
   ],
   "source": [
    "spark"
   ]
  },
  {
   "cell_type": "code",
   "execution_count": 7,
   "id": "8300fcb2",
   "metadata": {},
   "outputs": [],
   "source": [
    "dfs = spark.read.option(\"header\",\"true\").csv(\"movie_review.csv\")"
   ]
  },
  {
   "cell_type": "code",
   "execution_count": 8,
   "id": "f56c8ef4",
   "metadata": {},
   "outputs": [
    {
     "name": "stdout",
     "output_type": "stream",
     "text": [
      "+-----+--------------------+\n",
      "|  cid|          review_str|\n",
      "+-----+--------------------+\n",
      "|13756|Once again Mr. Co...|\n",
      "|15738|This is an exampl...|\n",
      "|15727|First of all I ha...|\n",
      "|17954|Not even the Beat...|\n",
      "|16579|Brass pictures (m...|\n",
      "+-----+--------------------+\n",
      "only showing top 5 rows\n",
      "\n"
     ]
    }
   ],
   "source": [
    "dfs.show(5)"
   ]
  },
  {
   "cell_type": "code",
   "execution_count": 9,
   "id": "88e028bd",
   "metadata": {},
   "outputs": [],
   "source": [
    "from pyspark.ml.feature import Tokenizer\n",
    "from pyspark.ml.feature import StopWordsRemover\n",
    "import pyspark.sql.functions as f"
   ]
  },
  {
   "cell_type": "markdown",
   "id": "1e7f8c36",
   "metadata": {},
   "source": [
    "### Tokenization is the process of taking text (such as a sentence) and breaking it into individual terms (usually words). A simple Tokenizer class provides this functionality."
   ]
  },
  {
   "cell_type": "code",
   "execution_count": 11,
   "id": "63530b58",
   "metadata": {},
   "outputs": [
    {
     "name": "stdout",
     "output_type": "stream",
     "text": [
      "Tokenized data extract:\n",
      "+-----+--------------------+\n",
      "|  cid|        review_token|\n",
      "+-----+--------------------+\n",
      "|13756|[once, again, mr....|\n",
      "|15738|[this, is, an, ex...|\n",
      "|15727|[first, of, all, ...|\n",
      "|17954|[not, even, the, ...|\n",
      "|16579|[brass, pictures,...|\n",
      "|14841|[a, funny, thing,...|\n",
      "|18085|[this, german, ho...|\n",
      "|16365|[being, a, long-t...|\n",
      "|17912|[tokyo, eyes, tel...|\n",
      "|15100|[wealthy, horse, ...|\n",
      "+-----+--------------------+\n",
      "only showing top 10 rows\n",
      "\n"
     ]
    }
   ],
   "source": [
    "tokenizer = Tokenizer(inputCol=\"review_str\", outputCol=\"review_token\")\n",
    "tokenized = tokenizer.transform(dfs).select('cid','review_token')\n",
    "\n",
    "print('Tokenized data extract:')\n",
    "tokenized.show(10)"
   ]
  },
  {
   "cell_type": "markdown",
   "id": "a05fea50",
   "metadata": {},
   "source": [
    "### Stop words are words which should be excluded from the input, typically because the words appear frequently and don’t carry as much meaning."
   ]
  },
  {
   "cell_type": "code",
   "execution_count": 12,
   "id": "e037aa84",
   "metadata": {},
   "outputs": [
    {
     "name": "stdout",
     "output_type": "stream",
     "text": [
      "Data Cleaning extract:\n",
      "+-----+--------------------+\n",
      "|  cid|         token_clean|\n",
      "+-----+--------------------+\n",
      "|13756|[mr., costner, dr...|\n",
      "|15738|[example, majorit...|\n",
      "|15727|[first, hate, mor...|\n",
      "|17954|[even, beatles, w...|\n",
      "|16579|[brass, pictures,...|\n",
      "|14841|[funny, thing, ha...|\n",
      "|18085|[german, horror, ...|\n",
      "|16365|[long-time, fan, ...|\n",
      "|17912|[tokyo, eyes, tel...|\n",
      "|15100|[wealthy, horse, ...|\n",
      "+-----+--------------------+\n",
      "only showing top 10 rows\n",
      "\n"
     ]
    }
   ],
   "source": [
    "remover = StopWordsRemover(inputCol='review_token', outputCol='token_clean')\n",
    "data_clean = remover.transform(tokenized).select('cid', 'token_clean')\n",
    "\n",
    "print('Data Cleaning extract:')\n",
    "data_clean.show(10)"
   ]
  },
  {
   "cell_type": "markdown",
   "id": "06926111",
   "metadata": {},
   "source": [
    "### Spark array_contains() is an SQL Array function that is used to check if an element value is present in an array type(ArrayType) column on DataFrame. You can use array_contains() function either to derive a new boolean column or filter the DataFrame."
   ]
  },
  {
   "cell_type": "code",
   "execution_count": 17,
   "id": "2f257ee1",
   "metadata": {},
   "outputs": [
    {
     "name": "stdout",
     "output_type": "stream",
     "text": [
      "+-----+--------------------+---------------+\n",
      "|  cid|         token_clean|positive_review|\n",
      "+-----+--------------------+---------------+\n",
      "|13756|[mr., costner, dr...|          false|\n",
      "|15738|[example, majorit...|          false|\n",
      "|15727|[first, hate, mor...|          false|\n",
      "|17954|[even, beatles, w...|          false|\n",
      "|16579|[brass, pictures,...|           true|\n",
      "|14841|[funny, thing, ha...|          false|\n",
      "|18085|[german, horror, ...|          false|\n",
      "|16365|[long-time, fan, ...|           true|\n",
      "|17912|[tokyo, eyes, tel...|          false|\n",
      "|15100|[wealthy, horse, ...|          false|\n",
      "|16781|[cage, plays, dru...|          false|\n",
      "|16656|[first, all,, lik...|           true|\n",
      "|14390|[tell, -, serious...|           true|\n",
      "|17975|[big, disappointm...|          false|\n",
      "|17616|[film, absolutely...|          false|\n",
      "|14589|[decidedly, avera...|          false|\n",
      "|17629|[bottom, end, apo...|          false|\n",
      "|13089|[earth, destroyed...|          false|\n",
      "|16752|[many, people, st...|           true|\n",
      "|13579|[new, york, famil...|          false|\n",
      "+-----+--------------------+---------------+\n",
      "only showing top 20 rows\n",
      "\n"
     ]
    }
   ],
   "source": [
    "df2=data_clean.withColumn(\"positive_review\",f.array_contains(f.col(\"token_clean\"),\"good\"))\n",
    "df2.show(20)"
   ]
  },
  {
   "cell_type": "code",
   "execution_count": null,
   "id": "31eff757",
   "metadata": {},
   "outputs": [],
   "source": []
  },
  {
   "cell_type": "code",
   "execution_count": null,
   "id": "899bdbcc",
   "metadata": {},
   "outputs": [],
   "source": [
    "sc.stop()"
   ]
  }
 ],
 "metadata": {
  "kernelspec": {
   "display_name": "Python 3 (ipykernel)",
   "language": "python",
   "name": "python3"
  },
  "language_info": {
   "codemirror_mode": {
    "name": "ipython",
    "version": 3
   },
   "file_extension": ".py",
   "mimetype": "text/x-python",
   "name": "python",
   "nbconvert_exporter": "python",
   "pygments_lexer": "ipython3",
   "version": "3.9.5"
  }
 },
 "nbformat": 4,
 "nbformat_minor": 5
}
